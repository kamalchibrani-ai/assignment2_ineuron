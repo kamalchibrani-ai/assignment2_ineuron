{
  "nbformat": 4,
  "nbformat_minor": 0,
  "metadata": {
    "colab": {
      "name": "assignment_2.ipynb",
      "provenance": []
    },
    "kernelspec": {
      "name": "python3",
      "display_name": "Python 3"
    }
  },
  "cells": [
    {
      "cell_type": "markdown",
      "metadata": {
        "id": "zdWH9QruvVnd",
        "colab_type": "text"
      },
      "source": [
        "#ques 1\n",
        "Create the below pattern using nested for loop in Python.\n",
        "```\n",
        "*\n",
        "* *\n",
        "* * *\n",
        "* * * *\n",
        "* * * * *\n",
        "* * * *\n",
        "* * *\n",
        "* *\n",
        "*\n",
        "```"
      ]
    },
    {
      "cell_type": "markdown",
      "metadata": {
        "id": "f2bVg7vADdcD",
        "colab_type": "text"
      },
      "source": [
        ""
      ]
    },
    {
      "cell_type": "markdown",
      "metadata": {
        "id": "pd1xA346vfcC",
        "colab_type": "text"
      },
      "source": [
        "# answer 1 solution"
      ]
    },
    {
      "cell_type": "code",
      "metadata": {
        "id": "Yb7VrDJFvZH4",
        "colab_type": "code",
        "colab": {
          "base_uri": "https://localhost:8080/",
          "height": 201
        },
        "outputId": "1c7782cc-a13b-4650-8c58-25c260acdc55"
      },
      "source": [
        "for i in range(5):\n",
        "  for j in range(0,i+1):\n",
        "    print('* ' , end='')\n",
        "  print('\\r')\n",
        "\n",
        "for i in range(5,0 , -1):\n",
        "  for j in range(0,i-1):\n",
        "    print('* ' , end='')\n",
        "  print('\\r') "
      ],
      "execution_count": 2,
      "outputs": [
        {
          "output_type": "stream",
          "text": [
            "* \r\n",
            "* * \r\n",
            "* * * \r\n",
            "* * * * \r\n",
            "* * * * * \r\n",
            "* * * * \r\n",
            "* * * \r\n",
            "* * \r\n",
            "* \r\n",
            "\r\n"
          ],
          "name": "stdout"
        }
      ]
    },
    {
      "cell_type": "markdown",
      "metadata": {
        "id": "F4zslsE0vsie",
        "colab_type": "text"
      },
      "source": [
        "# ques 2\n",
        " Write a Python program to reverse a word after accepting the input from the user.\n",
        "\n",
        "Input word: ineuron\n",
        "\n",
        "Output: norueni"
      ]
    },
    {
      "cell_type": "code",
      "metadata": {
        "id": "PRi6LY2Hvd-D",
        "colab_type": "code",
        "colab": {
          "base_uri": "https://localhost:8080/",
          "height": 72
        },
        "outputId": "9381bf0e-2325-4e80-8970-c269e68abc86"
      },
      "source": [
        "reverse = input('enter anything to reverse''\\n')[::-1]\n",
        "print(reverse)"
      ],
      "execution_count": 3,
      "outputs": [
        {
          "output_type": "stream",
          "text": [
            "enter anything to reverse\n",
            "kamal\n",
            "lamak\n"
          ],
          "name": "stdout"
        }
      ]
    },
    {
      "cell_type": "code",
      "metadata": {
        "id": "WLpfR_uovxgq",
        "colab_type": "code",
        "colab": {}
      },
      "source": [
        ""
      ],
      "execution_count": 0,
      "outputs": []
    }
  ]
}